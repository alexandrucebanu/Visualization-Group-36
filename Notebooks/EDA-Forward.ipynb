{
 "cells": [
  {
   "cell_type": "markdown",
   "id": "3d528d62",
   "metadata": {},
   "source": [
    "<h1 style=\"font-size:19px;color:#1563AF;font-weight:600\">Exploratory Data Analysis | Forward Players</h1>"
   ]
  },
  {
   "cell_type": "markdown",
   "id": "7c63dd1b",
   "metadata": {},
   "source": [
    "<p style=\"font-size:16px\">JBI100 Visualization | Dana Mirafzal | November 2023</p>"
   ]
  },
  {
   "cell_type": "markdown",
   "id": "472c5cef",
   "metadata": {},
   "source": [
    "---"
   ]
  }
 ],
 "metadata": {
  "kernelspec": {
   "display_name": "Python 3 (ipykernel)",
   "language": "python",
   "name": "python3"
  },
  "language_info": {
   "codemirror_mode": {
    "name": "ipython",
    "version": 3
   },
   "file_extension": ".py",
   "mimetype": "text/x-python",
   "name": "python",
   "nbconvert_exporter": "python",
   "pygments_lexer": "ipython3",
   "version": "3.11.0"
  }
 },
 "nbformat": 4,
 "nbformat_minor": 5
}
