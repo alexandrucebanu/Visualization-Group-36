{
 "cells": [
  {
   "cell_type": "code",
   "execution_count": 3,
   "metadata": {},
   "outputs": [
    {
     "name": "stdout",
     "output_type": "stream",
     "text": [
      "1\n"
     ]
    }
   ],
   "source": [
    "my_list = [1, 2, 3]\n",
    "\n",
    "def my_func(num, num2, num3):\n",
    "    print(num)\n",
    "\n",
    "my_func(*my_list)"
   ]
  },
  {
   "cell_type": "code",
   "execution_count": 4,
   "metadata": {},
   "outputs": [
    {
     "name": "stdout",
     "output_type": "stream",
     "text": [
      "['FW']\n"
     ]
    }
   ],
   "source": [
    "dict_ = {'FW': [4, 3, 'shots_on_target', 'goals']}\n",
    "print([*dict_.keys()])"
   ]
  },
  {
   "cell_type": "code",
   "execution_count": 18,
   "metadata": {},
   "outputs": [
    {
     "data": {
      "text/plain": [
       "'age'"
      ]
     },
     "execution_count": 18,
     "metadata": {},
     "output_type": "execute_result"
    }
   ],
   "source": [
    "filters = {'age': [3,2,5,4,3], 'power_stamina': 3}\n",
    "\n",
    "dictkeys = list(filters.keys())[0]\n",
    "dictkeys"
   ]
  },
  {
   "cell_type": "code",
   "execution_count": 19,
   "metadata": {},
   "outputs": [
    {
     "data": {
      "text/plain": [
       "[3, 2, 5, 4, 3]"
      ]
     },
     "execution_count": 19,
     "metadata": {},
     "output_type": "execute_result"
    }
   ],
   "source": [
    "filters['age']"
   ]
  },
  {
   "cell_type": "code",
   "execution_count": 8,
   "metadata": {},
   "outputs": [],
   "source": [
    "import pandas as pd\n",
    "dict1 = {'player': ['Stafan van den Frankson', 'Mjau Mjauson', 'Fred'], 'data': [1,2,3]}\n",
    "dict2 = {'short_name': ['S. Frankson', 'Mjau', 'Fred']}\n",
    "\n",
    "# NOTE: 'short_name' will always be a subset of 'player'\n",
    "\n",
    "df_data = pd.DataFrame(dict1)\n",
    "df_data_ = pd.DataFrame(dict2)\n"
   ]
  },
  {
   "cell_type": "code",
   "execution_count": 26,
   "metadata": {},
   "outputs": [
    {
     "data": {
      "text/plain": [
       "0              J. Cole\n",
       "1               M. Ray\n",
       "2    Cristiano Ronaldo\n",
       "Name: name, dtype: object"
      ]
     },
     "execution_count": 26,
     "metadata": {},
     "output_type": "execute_result"
    }
   ],
   "source": [
    "import pandas as pd\n",
    "import re\n",
    "\n",
    "# Assuming you have a Pandas DataFrame named 'df' with a column named 'name'\n",
    "data = {'name': ['J. Cole', 'M. Ray', 'Cristiano Ronaldo']}\n",
    "df = pd.DataFrame(data)\n",
    "\n",
    "# Define a regular expression pattern\n",
    "pattern = r'\\b[A-Z]\\.\\s*'\n",
    "\n",
    "# Apply the regex replacement to the 'name' column\n",
    "\n",
    "series = df['name']\n",
    "series = series.str.replace(pattern, '')\n",
    "series\n",
    "# Display the result\n",
    "#df"
   ]
  },
  {
   "cell_type": "code",
   "execution_count": 163,
   "metadata": {},
   "outputs": [],
   "source": [
    "import os\n",
    "import pandas as pd\n",
    "import sys"
   ]
  },
  {
   "cell_type": "code",
   "execution_count": 223,
   "metadata": {},
   "outputs": [
    {
     "name": "stderr",
     "output_type": "stream",
     "text": [
      "/var/folders/2r/1pk5npwn5l541mm_rkjxq2_00000gn/T/ipykernel_977/211667037.py:11: DtypeWarning: Columns (25,108) have mixed types. Specify dtype option on import or set low_memory=False.\n",
      "  external = pd.read_csv(csv_path)\n"
     ]
    }
   ],
   "source": [
    "import os\n",
    "import pandas as pd\n",
    "\n",
    "# Get the current working directory\n",
    "current_directory = os.getcwd()\n",
    "\n",
    "# Construct the full path to the CSV file\n",
    "csv_path = os.path.join(current_directory, '../src/data/players_22.csv')\n",
    "\n",
    "# Read the CSV file\n",
    "external = pd.read_csv(csv_path)\n",
    "external = external[['short_name', 'long_name', 'wage_eur', 'value_eur', 'preferred_foot',\n",
    "                     'movement_sprint_speed', 'movement_reactions', 'power_jumping', 'power_stamina']]\n",
    "external = external.drop_duplicates(subset='long_name')\n",
    "external = external.drop_duplicates(subset='short_name')\n",
    "\n",
    "\n",
    "# Construct the full path to the CSV file\n",
    "csv_path = os.path.join(current_directory, '../src/data/player_passing.csv')\n",
    "sourceDF = pd.read_csv(csv_path)\n"
   ]
  },
  {
   "cell_type": "code",
   "execution_count": 235,
   "metadata": {},
   "outputs": [],
   "source": [
    "name_list = []\n",
    "not_seen = []\n",
    "for player_name in sourceDF['player']:\n",
    "    short_name_ = False\n",
    "    long_name_ = False\n",
    "    if (len(player_name.split()) == 1):\n",
    "        for short_name in external['short_name']:\n",
    "            if short_name == player_name:\n",
    "                name_list.append(short_name)\n",
    "                short_name_ = True\n",
    "    elif short_name_ == False:\n",
    "        for long_name in external['long_name']:\n",
    "            if all((name in long_name) for name in player_name.split()):\n",
    "                name_list.append(long_name)\n",
    "                long_name_ = True\n",
    "    \n",
    "    if (short_name_ == False) & (long_name_ == False):\n",
    "        not_seen.append(player_name)"
   ]
  },
  {
   "cell_type": "code",
   "execution_count": 236,
   "metadata": {},
   "outputs": [
    {
     "data": {
      "text/plain": [
       "0.8014705882352942"
      ]
     },
     "execution_count": 236,
     "metadata": {},
     "output_type": "execute_result"
    }
   ],
   "source": [
    "len(name_list) / len(sourceDF)"
   ]
  },
  {
   "cell_type": "code",
   "execution_count": 237,
   "metadata": {},
   "outputs": [
    {
     "data": {
      "text/plain": [
       "['Abdelhamid Sabiri',\n",
       " 'Abdelkarim Hassan',\n",
       " 'Abdessamad Ezzalzouli',\n",
       " 'Abdul Fatawu Issahaku',\n",
       " 'Abdulaziz Hatem',\n",
       " 'Abdulellah Al-Malki',\n",
       " 'Abdulrahman Al-Aboud',\n",
       " 'Abolfazl Jalali',\n",
       " 'Achraf Dari',\n",
       " 'Ahmad Nourollahi',\n",
       " 'Ahmed Alaaeldin',\n",
       " 'Aimen Dahmen',\n",
       " 'Ajdin Hrustic',\n",
       " 'Akram Afif',\n",
       " 'Ali Assadalla',\n",
       " 'Ali Maâloul',\n",
       " 'Almoez Ali',\n",
       " 'Andre-Frank Zambo Anguissa',\n",
       " 'André Ayew',\n",
       " 'André Onana',\n",
       " 'Ansu Fati',\n",
       " 'Anthony Contreras',\n",
       " 'António Silva',\n",
       " 'Ao Tanaka',\n",
       " 'Ardon Jasari',\n",
       " 'Assim Madibo',\n",
       " 'Ayase Ueda',\n",
       " 'Badr Banoun',\n",
       " 'Bassam Al-Rawi',\n",
       " 'Bilal El Khannous',\n",
       " 'Boualem Khoukhi',\n",
       " 'Brandon Aguilera',\n",
       " 'Brennan Johnson',\n",
       " 'Celso Borges',\n",
       " 'Charly Rodríguez',\n",
       " 'Cho Guesung',\n",
       " 'Cho Yumin',\n",
       " 'Daichi Kamada',\n",
       " 'Daizen Maeda',\n",
       " 'Dani Alves',\n",
       " 'Dejan Lovren',\n",
       " 'Devis Epassy',\n",
       " 'Edouard Mendy',\n",
       " 'Ehsan Hajsafi',\n",
       " 'Erick Gutiérrez',\n",
       " 'Everton Ribeiro',\n",
       " 'Fabian Rieder',\n",
       " 'Famara Diedhiou',\n",
       " 'Ferjani Sassi',\n",
       " 'Ferrán Torres',\n",
       " 'Félix Torres Caicedo',\n",
       " 'Garang Kuol',\n",
       " \"Georges-Kévin N'Koudou\",\n",
       " 'Gerson Torres',\n",
       " 'Ghaylène Chaalali',\n",
       " 'Giorgian De Arrascaeta',\n",
       " 'Guillermo Varela',\n",
       " 'Hassan Al-Haydos',\n",
       " 'Hernán Galíndez',\n",
       " 'Hidemasa Morita',\n",
       " 'Hiroki Ito',\n",
       " 'Hiroki Sakai',\n",
       " 'Homam Ahmed',\n",
       " 'Hong Chul',\n",
       " 'Hossein Kanaanizadegan',\n",
       " 'Hwang Hee-chan',\n",
       " 'Hwang In-beom',\n",
       " 'Hwang Ui-jo',\n",
       " 'Iliman Ndiaye',\n",
       " 'Ismail Mohamad',\n",
       " 'Ismaila Sarr',\n",
       " 'Ismaël Koné',\n",
       " 'Jakub Kiwior',\n",
       " 'Jeong Woo-yeong',\n",
       " 'Jeremy Doku',\n",
       " 'Jerome Ngom Mbekeli',\n",
       " 'Jesús Ferreira',\n",
       " 'Jewison Bennette',\n",
       " 'Joe Allen',\n",
       " 'Joe Morrell',\n",
       " 'Johan Venegas',\n",
       " 'Juan Pablo Vargas',\n",
       " 'Jung Woo-young',\n",
       " 'Junya Ito',\n",
       " 'Kaoru Mitoma',\n",
       " 'Karim Boudiaf',\n",
       " 'Kendall Waston',\n",
       " 'Kevin Rodríguez',\n",
       " 'Keysher Fuller',\n",
       " 'Kim Jin-su',\n",
       " 'Kim Min-jae',\n",
       " 'Kim Moonhwan',\n",
       " 'Kim Seung-gyu',\n",
       " 'Kim Young-gwon',\n",
       " 'Ko Itakura',\n",
       " 'Kwon Chang-hoon',\n",
       " 'Kwon Kyung-won',\n",
       " 'Lawrence Ati-Zigi',\n",
       " 'Lee Jae-sung',\n",
       " 'Lee Kangin',\n",
       " 'Lisandro Martínez',\n",
       " 'Lucas Paquetá',\n",
       " 'Martinelli',\n",
       " 'Maya Yoshida',\n",
       " 'Mehdi Torabi',\n",
       " 'Memphis',\n",
       " 'Meshaal Barsham',\n",
       " 'Miki Yamane',\n",
       " 'Milad Mohammadi',\n",
       " 'Mohamed Ali Ben Romdhane',\n",
       " 'Mohamed Kanno',\n",
       " 'Mohammed Al-Breik',\n",
       " 'Mohammed Al-Owais',\n",
       " 'Mohammed Muntari',\n",
       " 'Mohammed Salisu',\n",
       " 'Mohammed Waad',\n",
       " 'Moisés Caicedo',\n",
       " 'Montassar Talbi',\n",
       " 'Musab Kheder',\n",
       " 'Na Sang-ho',\n",
       " 'Nader Ghandri',\n",
       " 'Nawaf Al Abed',\n",
       " 'Neymar',\n",
       " 'Nico Williams',\n",
       " 'Nicolas Jackson',\n",
       " 'Nicolas Nkoulou',\n",
       " 'Néstor Araujo',\n",
       " 'Paik Seung-ho',\n",
       " 'Papu Gómez',\n",
       " 'Ramin Rezaeian',\n",
       " 'Ritsu Doan',\n",
       " 'Roan Wilson',\n",
       " 'Romario Ibarra',\n",
       " 'Roozbeh Cheshmi',\n",
       " 'Ró-Ró',\n",
       " 'Rónald Matarrita',\n",
       " 'Saad Al Sheeb',\n",
       " 'Sardar Azmoun',\n",
       " 'Saud Abdulhamid',\n",
       " 'Shogo Taniguchi',\n",
       " 'Shūichi Gonda',\n",
       " 'Son Heung-min',\n",
       " 'Son Jun-ho',\n",
       " 'Sultan Al-Ghanam',\n",
       " 'Taha Yassine Khenissi',\n",
       " 'Takefusa Kubo',\n",
       " 'Takehiro Tomiyasu',\n",
       " 'Takuma Asano',\n",
       " 'Takumi Minamino',\n",
       " 'Tarek Salman',\n",
       " 'Vinicius Júnior',\n",
       " 'Walid Cheddira',\n",
       " 'Wataru Endo',\n",
       " 'Wéverton',\n",
       " 'Yahya Attiat Allah',\n",
       " 'Yahya Jabrane',\n",
       " 'Yasser Al-Shahrani',\n",
       " 'Yeltsin Tejeda',\n",
       " 'Youssef Msakni',\n",
       " 'Youssoufa Moukoko',\n",
       " 'Youstin Salas',\n",
       " 'Yuki Soma',\n",
       " 'Yuto Nagatomo',\n",
       " 'Álvaro Zamora']"
      ]
     },
     "execution_count": 237,
     "metadata": {},
     "output_type": "execute_result"
    }
   ],
   "source": [
    "not_seen"
   ]
  },
  {
   "cell_type": "code",
   "execution_count": null,
   "metadata": {},
   "outputs": [],
   "source": []
  },
  {
   "cell_type": "code",
   "execution_count": 231,
   "metadata": {},
   "outputs": [
    {
     "data": {
      "text/plain": [
       "164"
      ]
     },
     "execution_count": 231,
     "metadata": {},
     "output_type": "execute_result"
    }
   ],
   "source": [
    "len(not_seen)"
   ]
  },
  {
   "cell_type": "code",
   "execution_count": 234,
   "metadata": {},
   "outputs": [
    {
     "data": {
      "text/plain": [
       "0.8014705882352942"
      ]
     },
     "execution_count": 234,
     "metadata": {},
     "output_type": "execute_result"
    }
   ],
   "source": []
  },
  {
   "cell_type": "code",
   "execution_count": 233,
   "metadata": {},
   "outputs": [
    {
     "data": {
      "text/plain": [
       "680"
      ]
     },
     "execution_count": 233,
     "metadata": {},
     "output_type": "execute_result"
    }
   ],
   "source": [
    "len(sourceDF)"
   ]
  },
  {
   "cell_type": "code",
   "execution_count": 195,
   "metadata": {},
   "outputs": [
    {
     "data": {
      "text/plain": [
       "(709, 709)"
      ]
     },
     "execution_count": 195,
     "metadata": {},
     "output_type": "execute_result"
    }
   ],
   "source": [
    "names_ex = []\n",
    "external = external.drop_duplicates(subset='short_name')\n",
    "external = external.drop_duplicates(subset='long_name')\n",
    "\n",
    "for name_ in external['short_name']:\n",
    "    if len(name_.split()) == 1:\n",
    "        names_ex.append(name_)\n",
    "len(names_ex), len(list(dict.fromkeys(names_ex)))"
   ]
  },
  {
   "cell_type": "code",
   "execution_count": 197,
   "metadata": {},
   "outputs": [
    {
     "data": {
      "text/plain": [
       "(25, 25)"
      ]
     },
     "execution_count": 197,
     "metadata": {},
     "output_type": "execute_result"
    }
   ],
   "source": [
    "names = []\n",
    "for name_ in sourceDF['player']:\n",
    "    if len(name_.split()) == 1:\n",
    "        names.append(name_)\n",
    "len(names), len(list(dict.fromkeys(names)))"
   ]
  },
  {
   "cell_type": "code",
   "execution_count": 198,
   "metadata": {},
   "outputs": [
    {
     "name": "stdout",
     "output_type": "stream",
     "text": [
      "Martinelli\n",
      "Memphis\n",
      "Neymar\n",
      "Ró-Ró\n",
      "Wéverton\n"
     ]
    }
   ],
   "source": [
    "for name in names:\n",
    "    if name not in names_ex:\n",
    "        print(name)"
   ]
  },
  {
   "cell_type": "code",
   "execution_count": 185,
   "metadata": {},
   "outputs": [
    {
     "name": "stdout",
     "output_type": "stream",
     "text": [
      "Alisson Alisson\n",
      "Antony Antony\n",
      "Casemiro Casemiro\n",
      "Danilo Danilo\n",
      "Ederson Ederson\n",
      "Fabinho Fabinho\n",
      "Fred Fred\n",
      "Gavi Gavi\n",
      "Koke Koke\n",
      "Marquinhos Marquinhos\n",
      "Munir Munir\n",
      "Otávio Otávio\n",
      "Pedri Pedri\n",
      "Pedro Pedro\n",
      "Pepe Pepe\n",
      "Raphinha Raphinha\n",
      "Richarlison Richarlison\n",
      "Rodri Rodri\n",
      "Rodrygo Rodrygo\n",
      "Vitinha Vitinha\n"
     ]
    }
   ],
   "source": [
    "\"\"\"for name in external['short_name']:\n",
    "    if len(name.split()) == 1:\n",
    "        print(name)\"\"\"\n",
    "for name in sourceDF['player']:\n",
    "    if len(name.split()) == 1:\n",
    "        for name_ in external['short_name']:\n",
    "            if name == name_:\n",
    "                print(name, name_)\n",
    "                continue"
   ]
  },
  {
   "cell_type": "code",
   "execution_count": null,
   "metadata": {},
   "outputs": [],
   "source": []
  },
  {
   "cell_type": "code",
   "execution_count": null,
   "metadata": {},
   "outputs": [],
   "source": []
  },
  {
   "cell_type": "code",
   "execution_count": 155,
   "metadata": {},
   "outputs": [],
   "source": [
    "import pandas as pd\n",
    "import re\n",
    "\n",
    "# Assuming you have a Pandas DataFrame named 'df' with a column named 'name'\n",
    "data = {'long_name': ['Daan Goedefridus Hendrikus Dankers', 'Alicia Hedvig Helena Larsen', 'Alicia Cool Keys', 'Cristiano Ronaldo', 'Mamma Mia']}\n",
    "external = pd.DataFrame(data)\n",
    "\n",
    "data = {'player': ['Daan Dankers', 'Alicia Larsen', 'Alicia Keys', 'Cristiano Ronaldo']}\n",
    "sourceDF = pd.DataFrame(data)"
   ]
  },
  {
   "cell_type": "code",
   "execution_count": null,
   "metadata": {},
   "outputs": [],
   "source": []
  },
  {
   "cell_type": "code",
   "execution_count": 156,
   "metadata": {},
   "outputs": [
    {
     "name": "stdout",
     "output_type": "stream",
     "text": [
      "Hello\n",
      "Hello\n",
      "Hello\n",
      "Hello\n"
     ]
    },
    {
     "data": {
      "text/html": [
       "<div>\n",
       "<style scoped>\n",
       "    .dataframe tbody tr th:only-of-type {\n",
       "        vertical-align: middle;\n",
       "    }\n",
       "\n",
       "    .dataframe tbody tr th {\n",
       "        vertical-align: top;\n",
       "    }\n",
       "\n",
       "    .dataframe thead th {\n",
       "        text-align: right;\n",
       "    }\n",
       "</style>\n",
       "<table border=\"1\" class=\"dataframe\">\n",
       "  <thead>\n",
       "    <tr style=\"text-align: right;\">\n",
       "      <th></th>\n",
       "      <th>player</th>\n",
       "      <th>long_name</th>\n",
       "    </tr>\n",
       "  </thead>\n",
       "  <tbody>\n",
       "    <tr>\n",
       "      <th>0</th>\n",
       "      <td>Daan Dankers</td>\n",
       "      <td>Daan Goedefridus Hendrikus Dankers</td>\n",
       "    </tr>\n",
       "    <tr>\n",
       "      <th>1</th>\n",
       "      <td>Alicia Larsen</td>\n",
       "      <td>Alicia Hedvig Helena Larsen</td>\n",
       "    </tr>\n",
       "    <tr>\n",
       "      <th>2</th>\n",
       "      <td>Alicia Keys</td>\n",
       "      <td>Alicia Cool Keys</td>\n",
       "    </tr>\n",
       "    <tr>\n",
       "      <th>3</th>\n",
       "      <td>Cristiano Ronaldo</td>\n",
       "      <td>Cristiano Ronaldo</td>\n",
       "    </tr>\n",
       "  </tbody>\n",
       "</table>\n",
       "</div>"
      ],
      "text/plain": [
       "              player                           long_name\n",
       "0       Daan Dankers  Daan Goedefridus Hendrikus Dankers\n",
       "1      Alicia Larsen         Alicia Hedvig Helena Larsen\n",
       "2        Alicia Keys                    Alicia Cool Keys\n",
       "3  Cristiano Ronaldo                   Cristiano Ronaldo"
      ]
     },
     "execution_count": 156,
     "metadata": {},
     "output_type": "execute_result"
    }
   ],
   "source": [
    "import pandas as pd\n",
    "\n",
    "# Iterate through each row in sourceDf\n",
    "long_name_list = []\n",
    "for player_name in sourceDF['player']:\n",
    "    for long_name in external['long_name']:\n",
    "        #print(long_name, player_name.split())\n",
    "        if all((name in long_name) for name in player_name.split()):\n",
    "            print('Hello')\n",
    "            long_name_list.append(long_name)\n",
    "            continue\n",
    "        continue\n",
    "        \n",
    "sourceDF['long_name'] = long_name_list\n",
    "# Print the updated sourceDf\n",
    "sourceDF"
   ]
  },
  {
   "cell_type": "code",
   "execution_count": null,
   "metadata": {},
   "outputs": [],
   "source": []
  },
  {
   "cell_type": "code",
   "execution_count": 114,
   "metadata": {},
   "outputs": [
    {
     "name": "stdout",
     "output_type": "stream",
     "text": [
      "              player key_names          long_name\n",
      "0       Daan Dankers                             \n",
      "1      Alicia Larsen                             \n",
      "2  Cristiano Ronaldo            Cristiano Ronaldo\n"
     ]
    }
   ],
   "source": [
    "sourceDf['key_names'] = ''\n",
    "\n",
    "# Iterate through each row in sourceDf\n",
    "for index, row in sourceDf.iterrows():\n",
    "    name_split = row['player'].split()\n",
    "\n",
    "    # Check if all parts of the name exist in the 'long_name' column of external\n",
    "    if all(external['long_name'].str.contains(name).any() for name in name_split):\n",
    "        # Concatenate the matching key_names and store in the 'key_names' column\n",
    "        key_names = external[external['long_name'].str.contains(row['player'])]['long_name'].tolist()\n",
    "        sourceDf.at[index, 'long_name'] = ', '.join(key_names)\n",
    "\n",
    "# Print the updated sourceDf\n",
    "print(sourceDf)"
   ]
  },
  {
   "cell_type": "code",
   "execution_count": null,
   "metadata": {},
   "outputs": [],
   "source": []
  },
  {
   "cell_type": "code",
   "execution_count": null,
   "metadata": {},
   "outputs": [],
   "source": []
  },
  {
   "cell_type": "code",
   "execution_count": 111,
   "metadata": {},
   "outputs": [
    {
     "ename": "KeyError",
     "evalue": "True",
     "output_type": "error",
     "traceback": [
      "\u001b[0;31m---------------------------------------------------------------------------\u001b[0m",
      "\u001b[0;31mKeyError\u001b[0m                                  Traceback (most recent call last)",
      "File \u001b[0;32m~/anaconda3/envs/dash/lib/python3.10/site-packages/pandas/core/indexes/base.py:3791\u001b[0m, in \u001b[0;36mIndex.get_loc\u001b[0;34m(self, key)\u001b[0m\n\u001b[1;32m   3790\u001b[0m \u001b[38;5;28;01mtry\u001b[39;00m:\n\u001b[0;32m-> 3791\u001b[0m     \u001b[38;5;28;01mreturn\u001b[39;00m \u001b[38;5;28;43mself\u001b[39;49m\u001b[38;5;241;43m.\u001b[39;49m\u001b[43m_engine\u001b[49m\u001b[38;5;241;43m.\u001b[39;49m\u001b[43mget_loc\u001b[49m\u001b[43m(\u001b[49m\u001b[43mcasted_key\u001b[49m\u001b[43m)\u001b[49m\n\u001b[1;32m   3792\u001b[0m \u001b[38;5;28;01mexcept\u001b[39;00m \u001b[38;5;167;01mKeyError\u001b[39;00m \u001b[38;5;28;01mas\u001b[39;00m err:\n",
      "File \u001b[0;32mindex.pyx:152\u001b[0m, in \u001b[0;36mpandas._libs.index.IndexEngine.get_loc\u001b[0;34m()\u001b[0m\n",
      "File \u001b[0;32mindex.pyx:181\u001b[0m, in \u001b[0;36mpandas._libs.index.IndexEngine.get_loc\u001b[0;34m()\u001b[0m\n",
      "File \u001b[0;32mpandas/_libs/hashtable_class_helper.pxi:7080\u001b[0m, in \u001b[0;36mpandas._libs.hashtable.PyObjectHashTable.get_item\u001b[0;34m()\u001b[0m\n",
      "File \u001b[0;32mpandas/_libs/hashtable_class_helper.pxi:7088\u001b[0m, in \u001b[0;36mpandas._libs.hashtable.PyObjectHashTable.get_item\u001b[0;34m()\u001b[0m\n",
      "\u001b[0;31mKeyError\u001b[0m: True",
      "\nThe above exception was the direct cause of the following exception:\n",
      "\u001b[0;31mKeyError\u001b[0m                                  Traceback (most recent call last)",
      "Cell \u001b[0;32mIn[111], line 5\u001b[0m\n\u001b[1;32m      3\u001b[0m \u001b[38;5;66;03m# Iterate through each row in sourceDf\u001b[39;00m\n\u001b[1;32m      4\u001b[0m \u001b[38;5;28;01mfor\u001b[39;00m index, row \u001b[38;5;129;01min\u001b[39;00m sourceDf\u001b[38;5;241m.\u001b[39miterrows():\n\u001b[0;32m----> 5\u001b[0m     key_names \u001b[38;5;241m=\u001b[39m \u001b[43mexternal\u001b[49m\u001b[43m[\u001b[49m\u001b[43mexternal\u001b[49m\u001b[43m[\u001b[49m\u001b[38;5;124;43m'\u001b[39;49m\u001b[38;5;124;43mlong_name\u001b[39;49m\u001b[38;5;124;43m'\u001b[39;49m\u001b[43m]\u001b[49m\u001b[38;5;241;43m.\u001b[39;49m\u001b[43mstr\u001b[49m\u001b[38;5;241;43m.\u001b[39;49m\u001b[43mcontains\u001b[49m\u001b[43m(\u001b[49m\u001b[38;5;241;43m*\u001b[39;49m\u001b[43mrow\u001b[49m\u001b[43m[\u001b[49m\u001b[38;5;124;43m'\u001b[39;49m\u001b[38;5;124;43mplayer\u001b[39;49m\u001b[38;5;124;43m'\u001b[39;49m\u001b[43m]\u001b[49m\u001b[38;5;241;43m.\u001b[39;49m\u001b[43msplit\u001b[49m\u001b[43m(\u001b[49m\u001b[43m)\u001b[49m\u001b[43m)\u001b[49m\u001b[38;5;241;43m.\u001b[39;49m\u001b[43many\u001b[49m\u001b[43m(\u001b[49m\u001b[43m)\u001b[49m\u001b[43m]\u001b[49m[\u001b[38;5;124m'\u001b[39m\u001b[38;5;124mlong_name\u001b[39m\u001b[38;5;124m'\u001b[39m]\u001b[38;5;241m.\u001b[39mtolist()\n\u001b[1;32m      6\u001b[0m     sourceDf\u001b[38;5;241m.\u001b[39mat[index, \u001b[38;5;124m'\u001b[39m\u001b[38;5;124mlong_name\u001b[39m\u001b[38;5;124m'\u001b[39m] \u001b[38;5;241m=\u001b[39m \u001b[38;5;124m'\u001b[39m\u001b[38;5;124m, \u001b[39m\u001b[38;5;124m'\u001b[39m\u001b[38;5;241m.\u001b[39mjoin(key_names)\n\u001b[1;32m      8\u001b[0m \u001b[38;5;66;03m# Print the updated sourceDf\u001b[39;00m\n",
      "File \u001b[0;32m~/anaconda3/envs/dash/lib/python3.10/site-packages/pandas/core/frame.py:3893\u001b[0m, in \u001b[0;36mDataFrame.__getitem__\u001b[0;34m(self, key)\u001b[0m\n\u001b[1;32m   3891\u001b[0m \u001b[38;5;28;01mif\u001b[39;00m \u001b[38;5;28mself\u001b[39m\u001b[38;5;241m.\u001b[39mcolumns\u001b[38;5;241m.\u001b[39mnlevels \u001b[38;5;241m>\u001b[39m \u001b[38;5;241m1\u001b[39m:\n\u001b[1;32m   3892\u001b[0m     \u001b[38;5;28;01mreturn\u001b[39;00m \u001b[38;5;28mself\u001b[39m\u001b[38;5;241m.\u001b[39m_getitem_multilevel(key)\n\u001b[0;32m-> 3893\u001b[0m indexer \u001b[38;5;241m=\u001b[39m \u001b[38;5;28;43mself\u001b[39;49m\u001b[38;5;241;43m.\u001b[39;49m\u001b[43mcolumns\u001b[49m\u001b[38;5;241;43m.\u001b[39;49m\u001b[43mget_loc\u001b[49m\u001b[43m(\u001b[49m\u001b[43mkey\u001b[49m\u001b[43m)\u001b[49m\n\u001b[1;32m   3894\u001b[0m \u001b[38;5;28;01mif\u001b[39;00m is_integer(indexer):\n\u001b[1;32m   3895\u001b[0m     indexer \u001b[38;5;241m=\u001b[39m [indexer]\n",
      "File \u001b[0;32m~/anaconda3/envs/dash/lib/python3.10/site-packages/pandas/core/indexes/base.py:3798\u001b[0m, in \u001b[0;36mIndex.get_loc\u001b[0;34m(self, key)\u001b[0m\n\u001b[1;32m   3793\u001b[0m     \u001b[38;5;28;01mif\u001b[39;00m \u001b[38;5;28misinstance\u001b[39m(casted_key, \u001b[38;5;28mslice\u001b[39m) \u001b[38;5;129;01mor\u001b[39;00m (\n\u001b[1;32m   3794\u001b[0m         \u001b[38;5;28misinstance\u001b[39m(casted_key, abc\u001b[38;5;241m.\u001b[39mIterable)\n\u001b[1;32m   3795\u001b[0m         \u001b[38;5;129;01mand\u001b[39;00m \u001b[38;5;28many\u001b[39m(\u001b[38;5;28misinstance\u001b[39m(x, \u001b[38;5;28mslice\u001b[39m) \u001b[38;5;28;01mfor\u001b[39;00m x \u001b[38;5;129;01min\u001b[39;00m casted_key)\n\u001b[1;32m   3796\u001b[0m     ):\n\u001b[1;32m   3797\u001b[0m         \u001b[38;5;28;01mraise\u001b[39;00m InvalidIndexError(key)\n\u001b[0;32m-> 3798\u001b[0m     \u001b[38;5;28;01mraise\u001b[39;00m \u001b[38;5;167;01mKeyError\u001b[39;00m(key) \u001b[38;5;28;01mfrom\u001b[39;00m \u001b[38;5;21;01merr\u001b[39;00m\n\u001b[1;32m   3799\u001b[0m \u001b[38;5;28;01mexcept\u001b[39;00m \u001b[38;5;167;01mTypeError\u001b[39;00m:\n\u001b[1;32m   3800\u001b[0m     \u001b[38;5;66;03m# If we have a listlike key, _check_indexing_error will raise\u001b[39;00m\n\u001b[1;32m   3801\u001b[0m     \u001b[38;5;66;03m#  InvalidIndexError. Otherwise we fall through and re-raise\u001b[39;00m\n\u001b[1;32m   3802\u001b[0m     \u001b[38;5;66;03m#  the TypeError.\u001b[39;00m\n\u001b[1;32m   3803\u001b[0m     \u001b[38;5;28mself\u001b[39m\u001b[38;5;241m.\u001b[39m_check_indexing_error(key)\n",
      "\u001b[0;31mKeyError\u001b[0m: True"
     ]
    }
   ],
   "source": [
    "sourceDf['key_names'] = ''\n",
    "\n",
    "# Iterate through each row in sourceDf\n",
    "for index, row in sourceDf.iterrows():\n",
    "    key_names = external[external['long_name'].str.contains(*row['player'].split()).any()]['long_name'].tolist()\n",
    "    sourceDf.at[index, 'long_name'] = ', '.join(key_names)\n",
    "\n",
    "# Print the updated sourceDf\n",
    "print(sourceDf)"
   ]
  },
  {
   "cell_type": "code",
   "execution_count": null,
   "metadata": {},
   "outputs": [],
   "source": []
  },
  {
   "cell_type": "code",
   "execution_count": null,
   "metadata": {},
   "outputs": [],
   "source": []
  },
  {
   "cell_type": "code",
   "execution_count": 102,
   "metadata": {},
   "outputs": [
    {
     "name": "stdout",
     "output_type": "stream",
     "text": [
      "              player key_names                           long_name\n",
      "0       Daan Dankers            Daan Goedefridus Hendrikus Dankers\n",
      "1      Alicia Larsen                   Alicia Hedvig Helena Larsen\n",
      "2  Cristiano Ronaldo                             Cristiano Ronaldo\n"
     ]
    }
   ],
   "source": [
    "sourceDf['key_names'] = ''\n",
    "\n",
    "# Iterate through each row in sourceDf\n",
    "for index, row in sourceDf.iterrows():\n",
    "    name_split = row['player'].split()\n",
    "    name_match = []\n",
    "\n",
    "    # Check if each part of the name exists in the 'long_name' column of external\n",
    "    for name in name_split:\n",
    "        if (external['long_name'].str.contains(name)).any():\n",
    "            name_match.append(1)\n",
    "\n",
    "    # Check if all parts of the name are found in 'long_name'\n",
    "    if sum(name_match) == len(name_match):\n",
    "        # Concatenate the matching key_names and store in the 'key_names' column\n",
    "        key_names = external[external['long_name'].str.contains(*row['player'].split())]['long_name'].tolist()\n",
    "        sourceDf.at[index, 'long_name'] = ', '.join(key_names)\n",
    "\n",
    "# Print the updated sourceDf\n",
    "print(sourceDf)"
   ]
  },
  {
   "cell_type": "code",
   "execution_count": null,
   "metadata": {},
   "outputs": [],
   "source": []
  },
  {
   "cell_type": "code",
   "execution_count": null,
   "metadata": {},
   "outputs": [],
   "source": []
  },
  {
   "cell_type": "code",
   "execution_count": null,
   "metadata": {},
   "outputs": [],
   "source": []
  },
  {
   "cell_type": "code",
   "execution_count": null,
   "metadata": {},
   "outputs": [],
   "source": []
  },
  {
   "cell_type": "code",
   "execution_count": null,
   "metadata": {},
   "outputs": [],
   "source": []
  },
  {
   "cell_type": "code",
   "execution_count": 76,
   "metadata": {},
   "outputs": [
    {
     "name": "stdout",
     "output_type": "stream",
     "text": [
      "<class 'str'>\n",
      "                name               mjau\n",
      "0            J. Cole            J. Cole\n",
      "1          A. Larsen          A. Larsen\n",
      "2  Cristiano Ronaldo  Cristiano Ronaldo\n"
     ]
    }
   ],
   "source": [
    "import pandas as pd\n",
    "\n",
    "# Assuming you have a Pandas DataFrame named 'df' with a column named 'name'\n",
    "data = {'name': ['J. Cole', 'A. Larsen', 'Cristiano Ronaldo']}\n",
    "df = pd.DataFrame(data)\n",
    "\n",
    "\n",
    "for row in \n",
    "\n",
    "\n",
    "\n",
    "# Define a regular expression pattern\n",
    "pattern = r'\\b[A-Z]\\.\\s*'\n",
    "pattern = r'[A-Z]'\n",
    "print(type(pattern))\n",
    "#pattern = r'J'\n",
    "\n",
    "# Apply the regex replacement to the 'name' column\n",
    "df['mjau'] = df['name'].str.replace(pattern, '')\n",
    "\n",
    "\n",
    "# Display the result\n",
    "print(df)"
   ]
  },
  {
   "cell_type": "code",
   "execution_count": null,
   "metadata": {},
   "outputs": [],
   "source": [
    "df_data_['name']"
   ]
  },
  {
   "cell_type": "code",
   "execution_count": 9,
   "metadata": {},
   "outputs": [
    {
     "data": {
      "text/html": [
       "<div>\n",
       "<style scoped>\n",
       "    .dataframe tbody tr th:only-of-type {\n",
       "        vertical-align: middle;\n",
       "    }\n",
       "\n",
       "    .dataframe tbody tr th {\n",
       "        vertical-align: top;\n",
       "    }\n",
       "\n",
       "    .dataframe thead th {\n",
       "        text-align: right;\n",
       "    }\n",
       "</style>\n",
       "<table border=\"1\" class=\"dataframe\">\n",
       "  <thead>\n",
       "    <tr style=\"text-align: right;\">\n",
       "      <th></th>\n",
       "      <th>player</th>\n",
       "      <th>data</th>\n",
       "      <th>short_name</th>\n",
       "    </tr>\n",
       "  </thead>\n",
       "  <tbody>\n",
       "    <tr>\n",
       "      <th>0</th>\n",
       "      <td>Stafan van den Frankson</td>\n",
       "      <td>1</td>\n",
       "      <td>[S., Frankson]</td>\n",
       "    </tr>\n",
       "    <tr>\n",
       "      <th>1</th>\n",
       "      <td>Mjau Mjauson</td>\n",
       "      <td>2</td>\n",
       "      <td>[Mjau]</td>\n",
       "    </tr>\n",
       "    <tr>\n",
       "      <th>2</th>\n",
       "      <td>Fred</td>\n",
       "      <td>3</td>\n",
       "      <td>[Fred]</td>\n",
       "    </tr>\n",
       "  </tbody>\n",
       "</table>\n",
       "</div>"
      ],
      "text/plain": [
       "                    player  data      short_name\n",
       "0  Stafan van den Frankson     1  [S., Frankson]\n",
       "1             Mjau Mjauson     2          [Mjau]\n",
       "2                     Fred     3          [Fred]"
      ]
     },
     "execution_count": 9,
     "metadata": {},
     "output_type": "execute_result"
    }
   ],
   "source": [
    "\n",
    "\n",
    "\n",
    "for short_name in len(df_data_):\n",
    "    i = 0\n",
    "    while i < len(short_name):\n",
    "\n",
    "\n",
    "df_data['short_name'] = \n",
    "\n",
    "\n",
    "df_data_['short_name'].str.split()\n",
    "df_data"
   ]
  },
  {
   "cell_type": "code",
   "execution_count": null,
   "metadata": {},
   "outputs": [],
   "source": []
  }
 ],
 "metadata": {
  "kernelspec": {
   "display_name": "dash",
   "language": "python",
   "name": "python3"
  },
  "language_info": {
   "codemirror_mode": {
    "name": "ipython",
    "version": 3
   },
   "file_extension": ".py",
   "mimetype": "text/x-python",
   "name": "python",
   "nbconvert_exporter": "python",
   "pygments_lexer": "ipython3",
   "version": "3.10.13"
  },
  "orig_nbformat": 4
 },
 "nbformat": 4,
 "nbformat_minor": 2
}
